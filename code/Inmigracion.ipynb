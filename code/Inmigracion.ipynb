{
 "cells": [
  {
   "cell_type": "code",
   "execution_count": 1,
   "id": "c76f8f83",
   "metadata": {},
   "outputs": [],
   "source": [
    "import pandas as pd\n",
    "pd.set_option('display.max_rows', 320)\n",
    "pd.set_option('display.max_columns', 50)"
   ]
  },
  {
   "cell_type": "code",
   "execution_count": 2,
   "id": "14afb9b3",
   "metadata": {},
   "outputs": [],
   "source": [
    "dic = {\n",
    "    'AD': 'Andorra',\n",
    "    'AL': 'Albania',\n",
    "    'AM': 'Armenia',\n",
    "    'AT': 'Austria',\n",
    "    'AZ': 'Azerbaijan',\n",
    "    'BA': 'Bosnia and Herzegovina',\n",
    "    'BE': 'Belgium',\n",
    "    'BG': 'Bulgaria',\n",
    "    'BY': 'Belarus',\n",
    "    'CH': 'Switzerland',\n",
    "    'CY': 'Cyprus',\n",
    "    'CZ': 'Czech Republic',\n",
    "    'DE': 'Germany',\n",
    "    'DE_TOT': 'Germany (until 1990 former territory of the FRG)',\n",
    "    'DK': 'Denmark',\n",
    "    'EA19': 'Euro Area (19 countries)',\n",
    "    'EA20': 'Euro Area (20 countries)',\n",
    "    'EE': 'Estonia',\n",
    "    'EEA30_2007': 'EU-27 & EEA (30 countries, 2007-2013)',\n",
    "    'EEA31': 'European Economic Area (31 countries)',\n",
    "    'EFTA': 'European Free Trade Association',\n",
    "    'EL': 'Greece',\n",
    "    'ES': 'Spain',\n",
    "    'EU27_2007': 'EU-27 (2007-2013)',\n",
    "    'EU27_2020': 'EU-27 (from 2020)',\n",
    "    'EU28': 'European Union (28 countries)',\n",
    "    'FI': 'Finland',\n",
    "    'FR': 'France',\n",
    "    'FX': 'France (metropolitan)',\n",
    "    'GE': 'Georgia',\n",
    "    'HR': 'Croatia',\n",
    "    'HU': 'Hungary',\n",
    "    'IE': 'Ireland',\n",
    "    'IS': 'Iceland',\n",
    "    'IT': 'Italy',\n",
    "    'LI': 'Liechtenstein',\n",
    "    'LT': 'Lithuania',\n",
    "    'LU': 'Luxembourg',\n",
    "    'LV': 'Latvia',\n",
    "    'MC': 'Monaco',\n",
    "    'MD': 'Moldova',\n",
    "    'ME': 'Montenegro',\n",
    "    'MK': 'North Macedonia',\n",
    "    'MT': 'Malta',\n",
    "    'NL': 'Netherlands',\n",
    "    'NO': 'Norway',\n",
    "    'PL': 'Poland',\n",
    "    'PT': 'Portugal',\n",
    "    'RO': 'Romania',\n",
    "    'RS': 'Serbia',\n",
    "    'RU': 'Russia',\n",
    "    'SE': 'Sweden',\n",
    "    'SI': 'Slovenia',\n",
    "    'SK': 'Slovakia',\n",
    "    'SM': 'San Marino',\n",
    "    'TR': 'Turkey',\n",
    "    'UA': 'Ukraine',\n",
    "    'UK': 'United Kingdom',\n",
    "    'XK': 'Kosovo'\n",
    "}"
   ]
  },
  {
   "cell_type": "code",
   "execution_count": 3,
   "id": "7110c2e6",
   "metadata": {},
   "outputs": [],
   "source": [
    "pop = pd.read_csv('../data/demo_pjan_linear.csv')"
   ]
  },
  {
   "cell_type": "code",
   "execution_count": 4,
   "id": "8131f6eb",
   "metadata": {},
   "outputs": [],
   "source": [
    "pop = pop.drop(columns=['freq','OBS_FLAG','DATAFLOW','freq','unit'])"
   ]
  },
  {
   "cell_type": "code",
   "execution_count": 5,
   "id": "235012b1",
   "metadata": {},
   "outputs": [],
   "source": [
    "pop = pop.rename(columns={'LAST UPDATE':'UPDATE_pop','OBS_VALUE':'poblacion'})"
   ]
  },
  {
   "cell_type": "code",
   "execution_count": 13,
   "id": "056964da",
   "metadata": {},
   "outputs": [],
   "source": [
    "pop = pop[(pop['age']=='TOTAL')&(pop['sex']=='T')]"
   ]
  },
  {
   "cell_type": "code",
   "execution_count": null,
   "id": "68586b5d",
   "metadata": {},
   "outputs": [],
   "source": []
  },
  {
   "cell_type": "code",
   "execution_count": 6,
   "id": "e134a7bd",
   "metadata": {},
   "outputs": [],
   "source": [
    "pop['Pais'] = pop['geo'].map(dic)"
   ]
  },
  {
   "cell_type": "code",
   "execution_count": 7,
   "id": "d00fe7be",
   "metadata": {},
   "outputs": [],
   "source": [
    "df = pd.read_csv('../data/migr_pop3ctb_linear.csv')"
   ]
  },
  {
   "cell_type": "code",
   "execution_count": 8,
   "id": "bf1270bb",
   "metadata": {},
   "outputs": [],
   "source": [
    "df = df.drop(columns=['DATAFLOW','freq','unit','OBS_FLAG'])"
   ]
  },
  {
   "cell_type": "code",
   "execution_count": 9,
   "id": "837a7a10",
   "metadata": {},
   "outputs": [],
   "source": [
    "df = df.rename(columns={'LAST UPDATE':'UPDATE_inm','OBS_VALUE':'inmigrantes'})"
   ]
  },
  {
   "cell_type": "code",
   "execution_count": 10,
   "id": "17d79d72",
   "metadata": {},
   "outputs": [],
   "source": [
    "df['Pais'] = df['geo'].map(dic)"
   ]
  },
  {
   "cell_type": "code",
   "execution_count": 12,
   "id": "00a7b51e",
   "metadata": {},
   "outputs": [],
   "source": [
    "NOEUROPA = df[(df['sex']=='T')&(df['age']=='TOTAL')&(df['c_birth']=='NEU27_2020_FOR')]\n",
    "TOTAL = df[(df['sex']=='T')&(df['age']=='TOTAL')&(df['c_birth']=='FOR')]\n",
    "OCEANIA = df[(df['sex']=='T')&(df['age']=='TOTAL')&(df['c_birth']=='OCE')]\n",
    "AFRICA = df[(df['sex']=='T')&(df['age']=='TOTAL')&(df['c_birth']=='AFR')]\n",
    "AMERICANORTE = df[(df['sex']=='T')&(df['age']=='TOTAL')&(df['c_birth']=='AME_N')]\n",
    "AMERICASUR = df[(df['sex']=='T')&(df['age']=='TOTAL')&(df['c_birth']=='AME_S')]\n",
    "AMERICACENTRO = df[(df['sex']=='T')&(df['age']=='TOTAL')&(df['c_birth']=='AME_C')]\n",
    "ASIA = df[(df['sex']=='T')&(df['age']=='TOTAL')&(df['c_birth']=='ASI')]"
   ]
  },
  {
   "cell_type": "code",
   "execution_count": 16,
   "id": "927dc582",
   "metadata": {},
   "outputs": [],
   "source": [
    "NOEUROPA_T = pd.merge(pop, NOEUROPA, on=['TIME_PERIOD','geo'], how='outer')\n",
    "TOTAL_T = pd.merge(pop, TOTAL, on=['TIME_PERIOD','geo'], how='outer')\n",
    "OCEANIA_T = pd.merge(pop, OCEANIA, on=['TIME_PERIOD','geo'], how='outer')\n",
    "AFRICA_T = pd.merge(pop, AFRICA, on=['TIME_PERIOD','geo'], how='outer')\n",
    "AMERICANORTE_T = pd.merge(pop, AMERICANORTE, on=['TIME_PERIOD','geo'], how='outer')\n",
    "AMERICASUR_T = pd.merge(pop, AMERICASUR, on=['TIME_PERIOD','geo'], how='outer')\n",
    "AMERICACENTRO_T = pd.merge(pop, AMERICACENTRO, on=['TIME_PERIOD','geo'], how='outer')\n",
    "ASIA_T = pd.merge(pop, ASIA, on=['TIME_PERIOD','geo'], how='outer')"
   ]
  },
  {
   "cell_type": "code",
   "execution_count": null,
   "id": "fb65dbb4",
   "metadata": {},
   "outputs": [],
   "source": [
    "NOEUROPA_T['Porcentaje'] = NOEUROPA_T['inmigrantes']*100/NOEUROPA_T['poblacion']\n",
    "TOTAL_T['Porcentaje'] = TOTAL_T['inmigrantes']*100/TOTAL_T['poblacion']\n",
    "OCEANIA_T['Porcentaje'] = OCEANIA_T['inmigrantes']*100/OCEANIA_T['poblacion']\n",
    "AFRICA_T['Porcentaje'] = AFRICA_T['inmigrantes']*100/AFRICA_T['poblacion']\n",
    "AMERICANORTE_T['Porcentaje'] = AMERICANORTE_T['inmigrantes']*100/AMERICANORTE_T['poblacion']\n",
    "NOEUROPA_T['Porcentaje'] = NOEUROPA_T['inmigrantes']*100/NOEUROPA_T['poblacion']\n",
    "NOEUROPA_T['Porcentaje'] = NOEUROPA_T['inmigrantes']*100/NOEUROPA_T['poblacion']\n",
    "NOEUROPA_T['Porcentaje'] = NOEUROPA_T['inmigrantes']*100/NOEUROPA_T['poblacion']"
   ]
  },
  {
   "cell_type": "code",
   "execution_count": 17,
   "id": "fc533131",
   "metadata": {},
   "outputs": [
    {
     "data": {
      "text/html": [
       "<div>\n",
       "<style scoped>\n",
       "    .dataframe tbody tr th:only-of-type {\n",
       "        vertical-align: middle;\n",
       "    }\n",
       "\n",
       "    .dataframe tbody tr th {\n",
       "        vertical-align: top;\n",
       "    }\n",
       "\n",
       "    .dataframe thead th {\n",
       "        text-align: right;\n",
       "    }\n",
       "</style>\n",
       "<table border=\"1\" class=\"dataframe\">\n",
       "  <thead>\n",
       "    <tr style=\"text-align: right;\">\n",
       "      <th></th>\n",
       "      <th>UPDATE_pop</th>\n",
       "      <th>age_x</th>\n",
       "      <th>sex_x</th>\n",
       "      <th>geo</th>\n",
       "      <th>TIME_PERIOD</th>\n",
       "      <th>poblacion</th>\n",
       "      <th>Pais_x</th>\n",
       "      <th>UPDATE_inm</th>\n",
       "      <th>c_birth</th>\n",
       "      <th>age_y</th>\n",
       "      <th>sex_y</th>\n",
       "      <th>inmigrantes</th>\n",
       "      <th>Pais_y</th>\n",
       "    </tr>\n",
       "  </thead>\n",
       "  <tbody>\n",
       "    <tr>\n",
       "      <th>0</th>\n",
       "      <td>19/04/24 23:00:00</td>\n",
       "      <td>TOTAL</td>\n",
       "      <td>T</td>\n",
       "      <td>AD</td>\n",
       "      <td>1986</td>\n",
       "      <td>44593.0</td>\n",
       "      <td>Andorra</td>\n",
       "      <td>NaN</td>\n",
       "      <td>NaN</td>\n",
       "      <td>NaN</td>\n",
       "      <td>NaN</td>\n",
       "      <td>NaN</td>\n",
       "      <td>NaN</td>\n",
       "    </tr>\n",
       "    <tr>\n",
       "      <th>1</th>\n",
       "      <td>19/04/24 23:00:00</td>\n",
       "      <td>TOTAL</td>\n",
       "      <td>T</td>\n",
       "      <td>AD</td>\n",
       "      <td>1987</td>\n",
       "      <td>46976.0</td>\n",
       "      <td>Andorra</td>\n",
       "      <td>NaN</td>\n",
       "      <td>NaN</td>\n",
       "      <td>NaN</td>\n",
       "      <td>NaN</td>\n",
       "      <td>NaN</td>\n",
       "      <td>NaN</td>\n",
       "    </tr>\n",
       "    <tr>\n",
       "      <th>2</th>\n",
       "      <td>19/04/24 23:00:00</td>\n",
       "      <td>TOTAL</td>\n",
       "      <td>T</td>\n",
       "      <td>AD</td>\n",
       "      <td>1988</td>\n",
       "      <td>48451.0</td>\n",
       "      <td>Andorra</td>\n",
       "      <td>NaN</td>\n",
       "      <td>NaN</td>\n",
       "      <td>NaN</td>\n",
       "      <td>NaN</td>\n",
       "      <td>NaN</td>\n",
       "      <td>NaN</td>\n",
       "    </tr>\n",
       "    <tr>\n",
       "      <th>3</th>\n",
       "      <td>19/04/24 23:00:00</td>\n",
       "      <td>TOTAL</td>\n",
       "      <td>T</td>\n",
       "      <td>AD</td>\n",
       "      <td>1989</td>\n",
       "      <td>50528.0</td>\n",
       "      <td>Andorra</td>\n",
       "      <td>NaN</td>\n",
       "      <td>NaN</td>\n",
       "      <td>NaN</td>\n",
       "      <td>NaN</td>\n",
       "      <td>NaN</td>\n",
       "      <td>NaN</td>\n",
       "    </tr>\n",
       "    <tr>\n",
       "      <th>4</th>\n",
       "      <td>19/04/24 23:00:00</td>\n",
       "      <td>TOTAL</td>\n",
       "      <td>T</td>\n",
       "      <td>AD</td>\n",
       "      <td>1990</td>\n",
       "      <td>50887.0</td>\n",
       "      <td>Andorra</td>\n",
       "      <td>NaN</td>\n",
       "      <td>NaN</td>\n",
       "      <td>NaN</td>\n",
       "      <td>NaN</td>\n",
       "      <td>NaN</td>\n",
       "      <td>NaN</td>\n",
       "    </tr>\n",
       "    <tr>\n",
       "      <th>...</th>\n",
       "      <td>...</td>\n",
       "      <td>...</td>\n",
       "      <td>...</td>\n",
       "      <td>...</td>\n",
       "      <td>...</td>\n",
       "      <td>...</td>\n",
       "      <td>...</td>\n",
       "      <td>...</td>\n",
       "      <td>...</td>\n",
       "      <td>...</td>\n",
       "      <td>...</td>\n",
       "      <td>...</td>\n",
       "      <td>...</td>\n",
       "    </tr>\n",
       "    <tr>\n",
       "      <th>2976</th>\n",
       "      <td>19/04/24 23:00:00</td>\n",
       "      <td>TOTAL</td>\n",
       "      <td>T</td>\n",
       "      <td>XK</td>\n",
       "      <td>2018</td>\n",
       "      <td>1798506.0</td>\n",
       "      <td>Kosovo</td>\n",
       "      <td>NaN</td>\n",
       "      <td>NaN</td>\n",
       "      <td>NaN</td>\n",
       "      <td>NaN</td>\n",
       "      <td>NaN</td>\n",
       "      <td>NaN</td>\n",
       "    </tr>\n",
       "    <tr>\n",
       "      <th>2977</th>\n",
       "      <td>19/04/24 23:00:00</td>\n",
       "      <td>TOTAL</td>\n",
       "      <td>T</td>\n",
       "      <td>XK</td>\n",
       "      <td>2019</td>\n",
       "      <td>1795666.0</td>\n",
       "      <td>Kosovo</td>\n",
       "      <td>NaN</td>\n",
       "      <td>NaN</td>\n",
       "      <td>NaN</td>\n",
       "      <td>NaN</td>\n",
       "      <td>NaN</td>\n",
       "      <td>NaN</td>\n",
       "    </tr>\n",
       "    <tr>\n",
       "      <th>2978</th>\n",
       "      <td>19/04/24 23:00:00</td>\n",
       "      <td>TOTAL</td>\n",
       "      <td>T</td>\n",
       "      <td>XK</td>\n",
       "      <td>2020</td>\n",
       "      <td>1782115.0</td>\n",
       "      <td>Kosovo</td>\n",
       "      <td>NaN</td>\n",
       "      <td>NaN</td>\n",
       "      <td>NaN</td>\n",
       "      <td>NaN</td>\n",
       "      <td>NaN</td>\n",
       "      <td>NaN</td>\n",
       "    </tr>\n",
       "    <tr>\n",
       "      <th>2979</th>\n",
       "      <td>19/04/24 23:00:00</td>\n",
       "      <td>TOTAL</td>\n",
       "      <td>T</td>\n",
       "      <td>XK</td>\n",
       "      <td>2021</td>\n",
       "      <td>1798186.0</td>\n",
       "      <td>Kosovo</td>\n",
       "      <td>NaN</td>\n",
       "      <td>NaN</td>\n",
       "      <td>NaN</td>\n",
       "      <td>NaN</td>\n",
       "      <td>NaN</td>\n",
       "      <td>NaN</td>\n",
       "    </tr>\n",
       "    <tr>\n",
       "      <th>2980</th>\n",
       "      <td>19/04/24 23:00:00</td>\n",
       "      <td>TOTAL</td>\n",
       "      <td>T</td>\n",
       "      <td>XK</td>\n",
       "      <td>2022</td>\n",
       "      <td>1773971.0</td>\n",
       "      <td>Kosovo</td>\n",
       "      <td>NaN</td>\n",
       "      <td>NaN</td>\n",
       "      <td>NaN</td>\n",
       "      <td>NaN</td>\n",
       "      <td>NaN</td>\n",
       "      <td>NaN</td>\n",
       "    </tr>\n",
       "  </tbody>\n",
       "</table>\n",
       "<p>2981 rows × 13 columns</p>\n",
       "</div>"
      ],
      "text/plain": [
       "             UPDATE_pop  age_x sex_x geo  TIME_PERIOD  poblacion   Pais_x  \\\n",
       "0     19/04/24 23:00:00  TOTAL     T  AD         1986    44593.0  Andorra   \n",
       "1     19/04/24 23:00:00  TOTAL     T  AD         1987    46976.0  Andorra   \n",
       "2     19/04/24 23:00:00  TOTAL     T  AD         1988    48451.0  Andorra   \n",
       "3     19/04/24 23:00:00  TOTAL     T  AD         1989    50528.0  Andorra   \n",
       "4     19/04/24 23:00:00  TOTAL     T  AD         1990    50887.0  Andorra   \n",
       "...                 ...    ...   ...  ..          ...        ...      ...   \n",
       "2976  19/04/24 23:00:00  TOTAL     T  XK         2018  1798506.0   Kosovo   \n",
       "2977  19/04/24 23:00:00  TOTAL     T  XK         2019  1795666.0   Kosovo   \n",
       "2978  19/04/24 23:00:00  TOTAL     T  XK         2020  1782115.0   Kosovo   \n",
       "2979  19/04/24 23:00:00  TOTAL     T  XK         2021  1798186.0   Kosovo   \n",
       "2980  19/04/24 23:00:00  TOTAL     T  XK         2022  1773971.0   Kosovo   \n",
       "\n",
       "     UPDATE_inm c_birth age_y sex_y  inmigrantes Pais_y  \n",
       "0           NaN     NaN   NaN   NaN          NaN    NaN  \n",
       "1           NaN     NaN   NaN   NaN          NaN    NaN  \n",
       "2           NaN     NaN   NaN   NaN          NaN    NaN  \n",
       "3           NaN     NaN   NaN   NaN          NaN    NaN  \n",
       "4           NaN     NaN   NaN   NaN          NaN    NaN  \n",
       "...         ...     ...   ...   ...          ...    ...  \n",
       "2976        NaN     NaN   NaN   NaN          NaN    NaN  \n",
       "2977        NaN     NaN   NaN   NaN          NaN    NaN  \n",
       "2978        NaN     NaN   NaN   NaN          NaN    NaN  \n",
       "2979        NaN     NaN   NaN   NaN          NaN    NaN  \n",
       "2980        NaN     NaN   NaN   NaN          NaN    NaN  \n",
       "\n",
       "[2981 rows x 13 columns]"
      ]
     },
     "execution_count": 17,
     "metadata": {},
     "output_type": "execute_result"
    }
   ],
   "source": [
    "NOEUROPA_T"
   ]
  },
  {
   "cell_type": "code",
   "execution_count": null,
   "id": "17d57ab9",
   "metadata": {},
   "outputs": [],
   "source": []
  },
  {
   "cell_type": "code",
   "execution_count": null,
   "id": "f213769b",
   "metadata": {},
   "outputs": [],
   "source": [
    "total['Porcentaje'] = total['inmigrantes']*100/total['poblacion']"
   ]
  },
  {
   "cell_type": "code",
   "execution_count": null,
   "id": "019a38c3",
   "metadata": {},
   "outputs": [],
   "source": [
    "total_noeuropa['Porcentaje'] = total_noeuropa['inmigrantes']*100/total['poblacion']"
   ]
  },
  {
   "cell_type": "code",
   "execution_count": null,
   "id": "bcc7d5ce",
   "metadata": {
    "scrolled": true
   },
   "outputs": [],
   "source": [
    "total[total['geo']=='ES']"
   ]
  },
  {
   "cell_type": "code",
   "execution_count": null,
   "id": "767246a1",
   "metadata": {},
   "outputs": [],
   "source": [
    "len(total.geo.unique())"
   ]
  },
  {
   "cell_type": "code",
   "execution_count": null,
   "id": "fef4d953",
   "metadata": {},
   "outputs": [],
   "source": [
    "total.geo.unique()"
   ]
  },
  {
   "cell_type": "code",
   "execution_count": null,
   "id": "27386632",
   "metadata": {
    "scrolled": true
   },
   "outputs": [],
   "source": [
    "total"
   ]
  },
  {
   "cell_type": "code",
   "execution_count": null,
   "id": "b706c24f",
   "metadata": {},
   "outputs": [],
   "source": [
    "total_noeuropa"
   ]
  },
  {
   "cell_type": "code",
   "execution_count": null,
   "id": "be5c2f5c",
   "metadata": {},
   "outputs": [],
   "source": [
    "publi = total[total['TIME_PERIOD']>1999]"
   ]
  },
  {
   "cell_type": "code",
   "execution_count": null,
   "id": "c6d55ef3",
   "metadata": {},
   "outputs": [],
   "source": [
    "publi_noeuropa = total_noeuropa[total_noeuropa['TIME_PERIOD']>1999]"
   ]
  },
  {
   "cell_type": "code",
   "execution_count": null,
   "id": "c4e45944",
   "metadata": {},
   "outputs": [],
   "source": [
    "publi_noeuropa"
   ]
  },
  {
   "cell_type": "code",
   "execution_count": null,
   "id": "80bbcc54",
   "metadata": {},
   "outputs": [],
   "source": [
    "publi"
   ]
  },
  {
   "cell_type": "code",
   "execution_count": null,
   "id": "04f14683",
   "metadata": {},
   "outputs": [],
   "source": [
    "publi['geo'].unique()"
   ]
  },
  {
   "cell_type": "code",
   "execution_count": null,
   "id": "fa73084e",
   "metadata": {},
   "outputs": [],
   "source": [
    "publi[publi['geo']=='RU']"
   ]
  },
  {
   "cell_type": "code",
   "execution_count": null,
   "id": "24f9b07a",
   "metadata": {},
   "outputs": [],
   "source": [
    "pivot = pd.pivot_table(publi, values='Porcentaje', index='Pais', columns='TIME_PERIOD')\n",
    "pivot = pivot.reset_index()"
   ]
  },
  {
   "cell_type": "code",
   "execution_count": null,
   "id": "105d07c4",
   "metadata": {},
   "outputs": [],
   "source": [
    "pivot_noeuropa = pd.pivot_table(publi_noeuropa, values='Porcentaje', index='Pais', columns='TIME_PERIOD')\n",
    "pivot_noeuropa = pivot_noeuropa.reset_index()"
   ]
  },
  {
   "cell_type": "code",
   "execution_count": null,
   "id": "97c015af",
   "metadata": {},
   "outputs": [],
   "source": [
    "pivot_noeuropa"
   ]
  },
  {
   "cell_type": "code",
   "execution_count": null,
   "id": "dd0875e8",
   "metadata": {},
   "outputs": [],
   "source": [
    "pivot_noeuropa['Dif_10'] = pivot_noeuropa[2023] - pivot_noeuropa[2013]\n",
    "pivot_noeuropa['Dif_5'] = pivot_noeuropa[2023] - pivot_noeuropa[2018]\n",
    "pivot_noeuropa['Dif_covid'] = pivot_noeuropa[2023] - pivot_noeuropa[2020]"
   ]
  },
  {
   "cell_type": "code",
   "execution_count": null,
   "id": "ac0039ea",
   "metadata": {},
   "outputs": [],
   "source": [
    "pivot['Dif_10'] = pivot[2023] - pivot[2013]\n",
    "pivot['Dif_14'] = pivot[2023] - pivot[2009]\n",
    "pivot['Dif_5'] = pivot[2023] - pivot[2018]\n",
    "pivot['Dif_covid'] = pivot[2023] - pivot[2020]"
   ]
  },
  {
   "cell_type": "code",
   "execution_count": null,
   "id": "413a7ba3",
   "metadata": {
    "scrolled": true
   },
   "outputs": [],
   "source": [
    "pivot.describe()"
   ]
  },
  {
   "cell_type": "code",
   "execution_count": null,
   "id": "8976ae85",
   "metadata": {},
   "outputs": [],
   "source": [
    "pivot_noeuropa.describe()"
   ]
  },
  {
   "cell_type": "code",
   "execution_count": null,
   "id": "d7dfee7d",
   "metadata": {},
   "outputs": [],
   "source": [
    "pivot_noeuropa"
   ]
  },
  {
   "cell_type": "code",
   "execution_count": null,
   "id": "0bc1c67e",
   "metadata": {
    "scrolled": true
   },
   "outputs": [],
   "source": [
    "pivot"
   ]
  },
  {
   "cell_type": "code",
   "execution_count": null,
   "id": "7ed8af44",
   "metadata": {},
   "outputs": [],
   "source": [
    "."
   ]
  },
  {
   "cell_type": "code",
   "execution_count": null,
   "id": "d166d607",
   "metadata": {},
   "outputs": [],
   "source": [
    "pivot_noeuropa.to_csv('Porcentaje_noeur.csv', index=False)"
   ]
  },
  {
   "cell_type": "code",
   "execution_count": null,
   "id": "99b9e181",
   "metadata": {},
   "outputs": [],
   "source": [
    "total_noeuropa.to_csv('inmigracion_noeur.csv', index=False)"
   ]
  },
  {
   "cell_type": "code",
   "execution_count": null,
   "id": "5557f9c8",
   "metadata": {},
   "outputs": [],
   "source": [
    "pivot.to_csv('Porcentaje.csv', index=False)"
   ]
  },
  {
   "cell_type": "code",
   "execution_count": null,
   "id": "8a0361dc",
   "metadata": {},
   "outputs": [],
   "source": [
    "total.to_csv('inmigracion.csv', index=False)"
   ]
  }
 ],
 "metadata": {
  "kernelspec": {
   "display_name": "Python 3 (ipykernel)",
   "language": "python",
   "name": "python3"
  },
  "language_info": {
   "codemirror_mode": {
    "name": "ipython",
    "version": 3
   },
   "file_extension": ".py",
   "mimetype": "text/x-python",
   "name": "python",
   "nbconvert_exporter": "python",
   "pygments_lexer": "ipython3",
   "version": "3.11.5"
  }
 },
 "nbformat": 4,
 "nbformat_minor": 5
}
